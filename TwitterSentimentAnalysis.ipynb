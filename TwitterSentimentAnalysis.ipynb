{
  "nbformat": 4,
  "nbformat_minor": 0,
  "metadata": {
    "colab": {
      "provenance": []
    },
    "kernelspec": {
      "name": "python3",
      "display_name": "Python 3"
    },
    "language_info": {
      "name": "python"
    }
  },
  "cells": [
    {
      "cell_type": "code",
      "execution_count": null,
      "metadata": {
        "id": "aqdir5X3XbZI"
      },
      "outputs": [],
      "source": [
        "!pip install tweepy textblob"
      ]
    },
    {
      "cell_type": "code",
      "source": [
        "import tweepy\n",
        "from textblob import TextBlob\n",
        "\n",
        "# Set up your Twitter API credentials\n",
        "consumer_key = 'Yours'\n",
        "consumer_secret = 'Yours'\n",
        "access_token = 'Yours'\n",
        "access_token_secret = 'Yours'\n",
        "\n",
        "# Authenticate with Twitter API\n",
        "auth = tweepy.OAuthHandler(consumer_key, consumer_secret)\n",
        "auth.set_access_token(access_token, access_token_secret)\n",
        "api = tweepy.API(auth)\n",
        "\n",
        "def get_tweets(query, count=100):\n",
        "    tweets = []\n",
        "    try:\n",
        "        fetched_tweets = tweepy.Cursor(api.search_tweets, q=query, count=count).items(count)\n",
        "        for tweet in fetched_tweets:\n",
        "            tweets.append(tweet.text)\n",
        "        return tweets\n",
        "    except Exception as e:\n",
        "        print(f\"Error: {str(e)}\")\n",
        "        return None\n",
        "\n",
        "def analyze_sentiment(tweet):\n",
        "    analysis = TextBlob(tweet)\n",
        "    if analysis.sentiment.polarity > 0:\n",
        "        return \"Positive\"\n",
        "    elif analysis.sentiment.polarity < 0:\n",
        "        return \"Negative\"\n",
        "    else:\n",
        "        return \"Neutral\"\n",
        "\n",
        "if __name__ == \"__main__\":\n",
        "    query = input(\"Enter a search query: \")\n",
        "    tweet_count = int(input(\"Enter the number of tweets to analyze: \"))\n",
        "\n",
        "    tweets = get_tweets(query, tweet_count)\n",
        "\n",
        "    if tweets is not None:\n",
        "        positive_count = 0\n",
        "        negative_count = 0\n",
        "        neutral_count = 0\n",
        "\n",
        "        for tweet in tweets:\n",
        "            sentiment = analyze_sentiment(tweet)\n",
        "            if sentiment == \"Positive\":\n",
        "                positive_count += 1\n",
        "            elif sentiment == \"Negative\":\n",
        "                negative_count += 1\n",
        "            else:\n",
        "                neutral_count += 1\n",
        "\n",
        "        print(f\"Sentiment Analysis for {query}:\")\n",
        "        print(f\"Positive tweets: {positive_count}\")\n",
        "        print(f\"Negative tweets: {negative_count}\")\n",
        "        print(f\"Neutral tweets: {neutral_count}\")\n",
        "    else:\n",
        "        print(\"No tweets were retrieved due to an error.\")"
      ],
      "metadata": {
        "id": "wIVft2CKXpk_"
      },
      "execution_count": null,
      "outputs": []
    }
  ]
}
