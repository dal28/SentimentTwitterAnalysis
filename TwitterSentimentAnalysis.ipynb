{
  "nbformat": 4,
  "nbformat_minor": 0,
  "metadata": {
    "colab": {
      "provenance": []
    },
    "kernelspec": {
      "name": "python3",
      "display_name": "Python 3"
    },
    "language_info": {
      "name": "python"
    }
  },
  "cells": [
    {
      "cell_type": "code",
      "execution_count": null,
      "metadata": {
        "colab": {
          "base_uri": "https://localhost:8080/"
        },
        "id": "aqdir5X3XbZI",
        "outputId": "8fc7f222-525d-4407-b68f-73b20b45f629"
      },
      "outputs": [
        {
          "output_type": "stream",
          "name": "stdout",
          "text": [
            "Requirement already satisfied: tweepy in /usr/local/lib/python3.10/dist-packages (4.13.0)\n",
            "Requirement already satisfied: textblob in /usr/local/lib/python3.10/dist-packages (0.17.1)\n",
            "Requirement already satisfied: oauthlib<4,>=3.2.0 in /usr/local/lib/python3.10/dist-packages (from tweepy) (3.2.2)\n",
            "Requirement already satisfied: requests<3,>=2.27.0 in /usr/local/lib/python3.10/dist-packages (from tweepy) (2.31.0)\n",
            "Requirement already satisfied: requests-oauthlib<2,>=1.2.0 in /usr/local/lib/python3.10/dist-packages (from tweepy) (1.3.1)\n",
            "Requirement already satisfied: nltk>=3.1 in /usr/local/lib/python3.10/dist-packages (from textblob) (3.8.1)\n",
            "Requirement already satisfied: click in /usr/local/lib/python3.10/dist-packages (from nltk>=3.1->textblob) (8.1.7)\n",
            "Requirement already satisfied: joblib in /usr/local/lib/python3.10/dist-packages (from nltk>=3.1->textblob) (1.3.2)\n",
            "Requirement already satisfied: regex>=2021.8.3 in /usr/local/lib/python3.10/dist-packages (from nltk>=3.1->textblob) (2023.6.3)\n",
            "Requirement already satisfied: tqdm in /usr/local/lib/python3.10/dist-packages (from nltk>=3.1->textblob) (4.66.1)\n",
            "Requirement already satisfied: charset-normalizer<4,>=2 in /usr/local/lib/python3.10/dist-packages (from requests<3,>=2.27.0->tweepy) (3.3.0)\n",
            "Requirement already satisfied: idna<4,>=2.5 in /usr/local/lib/python3.10/dist-packages (from requests<3,>=2.27.0->tweepy) (3.4)\n",
            "Requirement already satisfied: urllib3<3,>=1.21.1 in /usr/local/lib/python3.10/dist-packages (from requests<3,>=2.27.0->tweepy) (2.0.7)\n",
            "Requirement already satisfied: certifi>=2017.4.17 in /usr/local/lib/python3.10/dist-packages (from requests<3,>=2.27.0->tweepy) (2023.7.22)\n"
          ]
        }
      ],
      "source": [
        "!pip install tweepy textblob"
      ]
    },
    {
      "cell_type": "code",
      "source": [
        "import tweepy\n",
        "from textblob import TextBlob\n",
        "\n",
        "# Set up your Twitter API credentials\n",
        "consumer_key = '9dEfRZ0oWsxwi72lwHGOezhzm'\n",
        "consumer_secret = 'dE3uKROtUEEeJerTqV4KnrC1s9Wtih8CWVBYXUmGnhuKDjGxY0'\n",
        "access_token = '1332492571-bN9CvaBbkNE5ZaG8Gk37ITQGS5gkhKwD7KC58ak'\n",
        "access_token_secret = 'BPQQsOLBsSpRau6zexS2HVeGF0XVlzteAmTOpFItP4JmK'\n",
        "\n",
        "# Authenticate with Twitter API\n",
        "auth = tweepy.OAuthHandler(consumer_key, consumer_secret)\n",
        "auth.set_access_token(access_token, access_token_secret)\n",
        "api = tweepy.API(auth)\n",
        "\n",
        "def get_tweets(query, count=100):\n",
        "    tweets = []\n",
        "    try:\n",
        "        fetched_tweets = tweepy.Cursor(api.search_tweets, q=query, count=count).items(count)\n",
        "        for tweet in fetched_tweets:\n",
        "            tweets.append(tweet.text)\n",
        "        return tweets\n",
        "    except Exception as e:\n",
        "        print(f\"Error: {str(e)}\")\n",
        "        return None\n",
        "\n",
        "def analyze_sentiment(tweet):\n",
        "    analysis = TextBlob(tweet)\n",
        "    if analysis.sentiment.polarity > 0:\n",
        "        return \"Positive\"\n",
        "    elif analysis.sentiment.polarity < 0:\n",
        "        return \"Negative\"\n",
        "    else:\n",
        "        return \"Neutral\"\n",
        "\n",
        "if __name__ == \"__main__\":\n",
        "    query = input(\"Enter a search query: \")\n",
        "    tweet_count = int(input(\"Enter the number of tweets to analyze: \"))\n",
        "\n",
        "    tweets = get_tweets(query, tweet_count)\n",
        "\n",
        "    if tweets is not None:\n",
        "        positive_count = 0\n",
        "        negative_count = 0\n",
        "        neutral_count = 0\n",
        "\n",
        "        for tweet in tweets:\n",
        "            sentiment = analyze_sentiment(tweet)\n",
        "            if sentiment == \"Positive\":\n",
        "                positive_count += 1\n",
        "            elif sentiment == \"Negative\":\n",
        "                negative_count += 1\n",
        "            else:\n",
        "                neutral_count += 1\n",
        "\n",
        "        print(f\"Sentiment Analysis for {query}:\")\n",
        "        print(f\"Positive tweets: {positive_count}\")\n",
        "        print(f\"Negative tweets: {negative_count}\")\n",
        "        print(f\"Neutral tweets: {neutral_count}\")\n",
        "    else:\n",
        "        print(\"No tweets were retrieved due to an error.\")"
      ],
      "metadata": {
        "colab": {
          "base_uri": "https://localhost:8080/"
        },
        "id": "wIVft2CKXpk_",
        "outputId": "043a5a76-0597-490e-b619-f2ca32ed8718"
      },
      "execution_count": null,
      "outputs": [
        {
          "output_type": "stream",
          "name": "stdout",
          "text": [
            "Enter a search query: #BorussiaDortmund\n",
            "Enter the number of tweets to analyze: 100\n",
            "Error: 403 Forbidden\n",
            "453 - You currently have access to a subset of Twitter API v2 endpoints and limited v1.1 endpoints (e.g. media post, oauth) only. If you need access to this endpoint, you may need a different access level. You can learn more here: https://developer.twitter.com/en/portal/product\n",
            "No tweets were retrieved due to an error.\n"
          ]
        }
      ]
    }
  ]
}